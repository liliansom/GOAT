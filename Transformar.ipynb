{
 "cells": [
  {
   "cell_type": "markdown",
   "id": "b8e98f29",
   "metadata": {},
   "source": [
    "### Transformando arquivos Excel em CSV"
   ]
  },
  {
   "cell_type": "code",
   "execution_count": 1,
   "id": "dc1916d2",
   "metadata": {},
   "outputs": [],
   "source": [
    "import pandas as pd"
   ]
  },
  {
   "cell_type": "code",
   "execution_count": 2,
   "id": "22cf5fa9",
   "metadata": {},
   "outputs": [],
   "source": [
    "titulos = pd.read_excel(r'C:\\Users\\Usuário\\Documents\\GitHub\\GOAT\\data\\titulosjuntos.xlsx')"
   ]
  },
  {
   "cell_type": "code",
   "execution_count": 3,
   "id": "791fcdef",
   "metadata": {},
   "outputs": [],
   "source": [
    "titulos.to_csv('new_titulos.csv')\n"
   ]
  },
  {
   "cell_type": "code",
   "execution_count": null,
   "id": "e8a3238f",
   "metadata": {},
   "outputs": [],
   "source": []
  }
 ],
 "metadata": {
  "kernelspec": {
   "display_name": "Python 3 (ipykernel)",
   "language": "python",
   "name": "python3"
  },
  "language_info": {
   "codemirror_mode": {
    "name": "ipython",
    "version": 3
   },
   "file_extension": ".py",
   "mimetype": "text/x-python",
   "name": "python",
   "nbconvert_exporter": "python",
   "pygments_lexer": "ipython3",
   "version": "3.9.16"
  }
 },
 "nbformat": 4,
 "nbformat_minor": 5
}
