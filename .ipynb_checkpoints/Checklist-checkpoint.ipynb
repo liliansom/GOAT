{
 "cells": [
  {
   "cell_type": "markdown",
   "id": "ec879f46",
   "metadata": {},
   "source": [
    "## CheckList"
   ]
  },
  {
   "cell_type": "markdown",
   "id": "b8bf1173",
   "metadata": {},
   "source": [
    "### 1.Definição do Problema"
   ]
  },
  {
   "cell_type": "markdown",
   "id": "12be70db",
   "metadata": {},
   "source": [
    "[x] Storytelling\n",
    "\n",
    "[x] Definição do problema"
   ]
  },
  {
   "cell_type": "markdown",
   "id": "542099ee",
   "metadata": {},
   "source": [
    "### 2. Obtenção dos Dados"
   ]
  },
  {
   "cell_type": "markdown",
   "id": "25aeb7ac",
   "metadata": {},
   "source": [
    "[x] Criação das Pastas dos arquivos\n",
    "\n",
    "[x] Download dos dados\n",
    "\n",
    "[x] Download de Imagens\n",
    "\n",
    "[x] Busca de dados para o storytelling \n",
    "\n",
    "[x] Importação do Dados"
   ]
  },
  {
   "cell_type": "markdown",
   "id": "a4af6677",
   "metadata": {},
   "source": [
    "### 3. Exploração dos Dados"
   ]
  },
  {
   "cell_type": "markdown",
   "id": "b01ccf4c",
   "metadata": {},
   "source": [
    "[x] Verificar como os dados estão apresentados no arquivo\n",
    "\n",
    "[x] Verificar quantidade de dados nulos\n",
    "\n",
    "[x] Verificar quais dados estão com erros\n",
    "\n",
    "[x] Verificar quais colunas serão utilizadas\n",
    "\n",
    "[x] Compreender e qualificar esses dados\n",
    "\n",
    "[x] Anotação das questões que surgem"
   ]
  },
  {
   "cell_type": "markdown",
   "id": "3a830a5a",
   "metadata": {},
   "source": [
    "### 4. Preparação dos Dados"
   ]
  },
  {
   "cell_type": "markdown",
   "id": "c9d4568d",
   "metadata": {},
   "source": [
    "### Tabela de Gols\n",
    "\n",
    "[x] Alterar o nome das colunas\n",
    "\n",
    "[x] Tratar tipos de colunas\n",
    "        \n",
    "        [x] date em datas\n",
    "        [x] min em inteiro\n",
    "\n",
    "[] Tratar dados nulos\n",
    "        \n",
    "        [] PREENCHER OS DADOS VAZIOS DA COLUNA ROUND\n",
    "           CONDIÇÕES: if liga == liga, date == date, opp == opp: puxar o round\n",
    "\n",
    "[] Tratar dados com erros\n",
    "        \n",
    "        [] Coluna de Rodadas precisa ser reformatada, pois os dados estão escritos de maneira diferente\n",
    "            ex. \n",
    "            * Fourth round, 4th round\n",
    "            * last 16, Round of 16\n",
    "            * Sixth Round, 6th round \n",
    "            * Third Round,3rd round\n",
    "            * final, Final\n",
    "            \n",
    "[x] Excluir colunas que não serão utilizadas\n",
    "        \n",
    "       [x] Existem alguns campeonatos em que o Messi não participou...Utilizar apenas os dados em que os dois participaram.\n",
    "        \n",
    "[] Mesclar colunas, se necessário\n",
    "\n",
    "[] Separar os dados em dois arquivos, por jogador\n",
    "\n",
    "### Tabela de Títulos\n",
    "\n",
    "[] Tratar as tabelas de títulos para retirar a quantidade de vezes de cada título\n",
    "[] Criar uma nova coluna nas tabelas de títulos chamada 'Temporada' para as informações que não são dadas em anos\n"
   ]
  },
  {
   "cell_type": "markdown",
   "id": "d9769b1e",
   "metadata": {},
   "source": [
    "### 5. Plotagem dos Gráficos"
   ]
  },
  {
   "cell_type": "markdown",
   "id": "91909b30",
   "metadata": {},
   "source": [
    "[] Utilizar os dados para plotagem dos gráficos\n",
    "\n"
   ]
  },
  {
   "cell_type": "markdown",
   "id": "2b6f48e7",
   "metadata": {},
   "source": [
    "### 6. Revisão do Projeto"
   ]
  },
  {
   "cell_type": "markdown",
   "id": "ffdf718e",
   "metadata": {},
   "source": [
    "[] Readme\n",
    "\n",
    "    [x] Criação\n",
    "    [] Atualização\n",
    "    [] Finalização\n",
    "\n",
    "[] Checklist\n",
    "\n",
    "    [x] Criação\n",
    "    [] Atualização\n",
    "    [] Finalização\n",
    "    \n",
    "[] Finalizar storytelling\n",
    "\n",
    "    [x] Criação\n",
    "    [] Atualização\n",
    "    [] Finalização\n",
    "    \n",
    "[] Revisão final do Projeto\n",
    "\n",
    "    [] Ortografia\n",
    "    [] Imagens\n",
    "    [] Links\n",
    "    [] Comentários\n",
    "    [] Organização do repositório\n",
    "    [] Divulgação\n",
    "        \n",
    "        [] Adequação para Google Colab\n",
    "        [] Criação do vídeo\n",
    "        [] Postagem Linkedin\n",
    "                [] Não esquecer de comentar sobre o desafio da comunidade 5 data glow up\n",
    "                [] Não esquecer de comentar sobre @Heitor Sasaki\n",
    "        [] Postagem Comunidade\n",
    "\n",
    "\n",
    "    "
   ]
  }
 ],
 "metadata": {
  "kernelspec": {
   "display_name": "Python 3 (ipykernel)",
   "language": "python",
   "name": "python3"
  },
  "language_info": {
   "codemirror_mode": {
    "name": "ipython",
    "version": 3
   },
   "file_extension": ".py",
   "mimetype": "text/x-python",
   "name": "python",
   "nbconvert_exporter": "python",
   "pygments_lexer": "ipython3",
   "version": "3.9.16"
  }
 },
 "nbformat": 4,
 "nbformat_minor": 5
}
