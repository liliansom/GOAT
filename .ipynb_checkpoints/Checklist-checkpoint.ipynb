{
 "cells": [
  {
   "cell_type": "markdown",
   "id": "82a77ab5",
   "metadata": {},
   "source": [
    "## CheckList"
   ]
  },
  {
   "cell_type": "markdown",
   "id": "bc3ea328",
   "metadata": {},
   "source": [
    "### 1.Definição do Problema"
   ]
  },
  {
   "cell_type": "markdown",
   "id": "848cfac7",
   "metadata": {},
   "source": [
    "1. Quem é GOAT: Cristiano Ronaldo ou Lionel Messi?"
   ]
  },
  {
   "cell_type": "markdown",
   "id": "04aac7f6",
   "metadata": {},
   "source": [
    "### 2. Obtenção dos Dados"
   ]
  },
  {
   "cell_type": "markdown",
   "id": "fe4f2d21",
   "metadata": {},
   "source": [
    "[] Criação das Pastas dos arquivos\n",
    "\n",
    "[] Download dos dados\n",
    "\n",
    "[] Download de Imagens\n",
    "\n",
    "[] Busca de dados para o storytelling \n",
    "\n",
    "[] Importação do Dados"
   ]
  },
  {
   "cell_type": "markdown",
   "id": "55f1488a",
   "metadata": {},
   "source": [
    "### 3. Exploração dos Dados"
   ]
  },
  {
   "cell_type": "markdown",
   "id": "e51f3460",
   "metadata": {},
   "source": [
    "[] Verificar como os dados estão apresentados no arquivo\n",
    "\n",
    "[] Compreender e qualificar esses dados\n",
    "\n",
    "[] Verificar quantidade de dados nulos\n",
    "\n",
    "[] Verificar quais dados estão com erros\n",
    "\n",
    "[] Verificar quais colunas serão utilizadas\n",
    "\n",
    "[] Anotar todas essas questões no notebook"
   ]
  },
  {
   "cell_type": "markdown",
   "id": "497691a3",
   "metadata": {},
   "source": [
    "### 4. Preparação dos Dados"
   ]
  },
  {
   "cell_type": "markdown",
   "id": "6b0ee1ab",
   "metadata": {},
   "source": [
    "[] Tratar dados nulos\n",
    "\n",
    "[] Tratar dados com erros\n",
    "\n",
    "[] Excluir colunas que não serão utilizadas\n",
    "\n",
    "[] Mesclar colunas, se necessário\n",
    "\n"
   ]
  },
  {
   "cell_type": "markdown",
   "id": "4bc64c35",
   "metadata": {},
   "source": [
    "### 5. Análise Exploratória dos dados"
   ]
  },
  {
   "cell_type": "markdown",
   "id": "a5711e2c",
   "metadata": {},
   "source": []
  },
  {
   "cell_type": "markdown",
   "id": "5aed9464",
   "metadata": {},
   "source": []
  },
  {
   "cell_type": "markdown",
   "id": "8add1010",
   "metadata": {},
   "source": []
  }
 ],
 "metadata": {
  "kernelspec": {
   "display_name": "Python 3 (ipykernel)",
   "language": "python",
   "name": "python3"
  },
  "language_info": {
   "codemirror_mode": {
    "name": "ipython",
    "version": 3
   },
   "file_extension": ".py",
   "mimetype": "text/x-python",
   "name": "python",
   "nbconvert_exporter": "python",
   "pygments_lexer": "ipython3",
   "version": "3.9.16"
  }
 },
 "nbformat": 4,
 "nbformat_minor": 5
}
