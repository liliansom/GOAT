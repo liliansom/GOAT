{
 "cells": [
  {
   "cell_type": "markdown",
   "id": "0a591d6a",
   "metadata": {},
   "source": [
    "## GOAT: Cristiano Ronaldo ou Messi?"
   ]
  },
  {
   "cell_type": "markdown",
   "id": "ac366872",
   "metadata": {},
   "source": [
    "As primeiras regras escritas do futebol surgiram em 1830 — The Football Rulles — e foram criadas pelo Colégio Harrow. Estabeleceram o número de 11 jogadores para cada equipe e os gols para onde a bola deveria ser conduzida. Como havia uma diversidade nas regras, que variavam para cada colégio, em 1848, houve uma reunião de diretores de várias escolas que estabeleceram um código comum para o futebol, o que ampliou a aceitação da atividade nos meios educacionais e nas classes mais altas.\n",
    "\n",
    "<img src='img\\BolaAntiga.png' width='30%'>\n",
    "<center> \"Bola de futebol da Copa de 1930\"</center>\n",
    "\n",
    "Veja mais sobre \"História do Futebol\" em: https://brasilescola.uol.com.br/educacao-fisica/historia-do-futebol.htm\n",
    "Ao longo das décadas, novas regras foram implementadas e muitas outras modificadas até o futebol chegar ao formato que é conhecido hoje. Entre as mudanças, muitas colaboram para que o jogo ficasse mais limpo e justo.\n",
    "\n",
    "Em 1904, dirigentes da Bélgica, Dinamarca, Espanha, França, Holanda, Suécia e Suíça reuniram-se em Paris, na França, para fundar a Fédération Internationale of Football Association (Federação Internacional das Associações de Futebol), a FIFA, órgão que comanda o futebol e é responsável por organizar competições de nível mundial. A entidade foi criada para suprir o desejo de um torneio de futebol entre os países.\n",
    "\n",
    "O futebol é um dos esportes mais populares em todo o mundo e há uma grande divisão entre os amantes deste esporte:\n",
    "Quem é o melhor jogador?\n",
    "\n",
    "<img src='img\\CReMX.jpg' width='30%'>\n",
    "\n",
    "A palavra GOAT tem sido usada por décadas pela imprensa estadunidense para se referir a um atleta que marca uma determinada era em algum esporte. Foi utilizada para o boxeador Mohamed Ali, para o jogador de basquete Michael Jordan, para o golfista Tiger Woods e para o quarterback Tom Brady. No futebol, ela remonta a 2017, quando várias publicações em inglês foram usadas para descrever a temporada de Messi no Barcelona.\n",
    "\n",
    "GOAT é um acrônimo para a expressão “maior de todos os tempos” (em inglês: Greatest Of All Time), sendo frequentemente usada no esporte para falar dos grandes de uma determinada modalidade.\n",
    "\n",
    "<center><strong><h3>Afinal... Quem é o GOAT: Cristiano Ronaldo ou Lionel Messi?</h3></strong></center>\n",
    "\n",
    "\n",
    "<img src='img\\goat.jpg' width='50%'>\n",
    "\n",
    "Será que o Cristiano Ronaldo fez mais ou menos gols por campeonato do que Lionel Messi?  \n",
    "Em qual parte do jogo eles costumam fazer mais gols?\n",
    "\n",
    "Para explorar melhor essas questões, iremos percorrer cada etapa de nosso checklist buscando o que os dados dizem sobre isso... "
   ]
  },
  {
   "cell_type": "markdown",
   "id": "8652514b",
   "metadata": {},
   "source": [
    "## Checklist"
   ]
  },
  {
   "cell_type": "markdown",
   "id": "d762ae6a",
   "metadata": {},
   "source": [
    "1. Definição do Problema\n",
    "2. Obtenção dos Dados    \n",
    "3. Exploração dos Dados\n",
    "4. Preparação dos Dados\n",
    "5. Plotagem dos Dados\n",
    "\n",
    "Para conferir o Checklist detalhado:\n",
    "<a class=\"nav-link\" href=\"https://github.com/liliansom/GOAT/Checklist.ipynb\" target=\"_blank\">Clique Aqui</a><br>"
   ]
  },
  {
   "cell_type": "markdown",
   "id": "6e666a16",
   "metadata": {},
   "source": [
    "## 1. Definição do Problema"
   ]
  },
  {
   "cell_type": "markdown",
   "id": "69cae8b2",
   "metadata": {},
   "source": [
    "E por que não conhecer um pouco mais de nossos jogadores?\n",
    "\n",
    "Cristiano Ronaldo é nascido em Funchal - Portugal, no dia 5 de fevereiro de 1985, joga atualmente pelo Al-Nassr Football Club e é o jogador mais bem pago do mundo com salário especulado em torno de 200 milhões de euros por temporada. Além disso, o jogador atua também como capitão da Seleção Portuguesa. É o jogador com mais gols na história do futebol em jogos oficiais, sendo simultaneamente o jogador com mais gols na história a nível de seleções, bem como a nível de clubes.\n",
    "<img src='img\\cr.jpg' width='30%'>\n",
    "\n",
    "\n",
    "Já Lionel Messi é nascido em Rosário - Argentina, no dia 24 de junho de 1987, joga atualmente pelo Paris Saint-Germain. Messi detém o recorde de mais gols pelo Campeonato Espanhol, mais gols marcados em uma única edição do Campeonato Espanhol e de uma liga europeia. O jogador também atua como capitão da seleção Argentina e, além de ganhar a Copa do Mundo FIFA de 2022 realizada no Qtar, foi considerado o Craque da Copa! \n",
    "Seu companheiro de equipe Martínez levou o título de melhor goleiro e Fernández foi escolhido o destaque jovem do torneio. \n",
    "<img src='img\\messi.png' width='30%'>\n",
    "\n",
    "\n",
    "Mas, afinal, como definir quem é o GOAT?\n",
    "\n",
    "1. Para cada Título ganho serão contabilizados:\n",
    "        \n",
    "        1 ponto por Título\n",
    "        5 pontos, caso o Título seja Individual\n",
    "        7 pontos, caso o Título seja em Copas do Mundo.\n",
    "\n",
    "2. Para cada gol realizado serão contabilizados:\n",
    "\n",
    "        1 ponto por gol em rodadas de grupo\n",
    "        2 pontos por gol em rodadas dos 16 melhores\n",
    "        3 pontos por gol em quartas de final\n",
    "        4 pontos por gol em semi-finais e\n",
    "        5 pontos por gol em finais.\n",
    "\n",
    "Vamos começar a arrumar os dados para realizar essa comparação entre os dois jogadores?\n"
   ]
  },
  {
   "cell_type": "markdown",
   "id": "df9115fd",
   "metadata": {},
   "source": [
    "## 2.Obtenção dos Dados"
   ]
  },
  {
   "cell_type": "markdown",
   "id": "2d13b0da",
   "metadata": {},
   "source": [
    "Para realizar nossa competição serão utilizados os dados do Kaggle os quais podem ser baixados em: https://www.kaggle.com/datasets/ahmedterry/cristiano-ronald-vs-lionel-messi-weekly-updated\n",
    "\n",
    "Após o download dos dados, iremos importar as bibliotecas que serão utilizadas e importar os dados para o nosso notebook.\n",
    "\n",
    "Serão levantados também a quantidade de títulos que os dois jogadores já ganharam no site https://www.transfermarkt.pt/.\n",
    "\n",
    "Os três arquivos ficarão disponíveis no repositório do Github para download! :)"
   ]
  },
  {
   "cell_type": "code",
   "execution_count": 1,
   "id": "89a42f19",
   "metadata": {},
   "outputs": [],
   "source": [
    "# Importando as bibliotecas\n",
    "import pandas as pd\n",
    "import numpy as np\n",
    "from bs4 import BeautifulSoup\n",
    "import matplotlib as plt\n",
    "\n",
    "%matplotlib inline"
   ]
  },
  {
   "cell_type": "code",
   "execution_count": 2,
   "id": "337ac24e",
   "metadata": {},
   "outputs": [],
   "source": [
    "# Não se esqueça de trocar o caminho dos arquivos caso vá reproduzi-lo!\n",
    "\n",
    "# Dados de Gols\n",
    "df_G = pd.read_csv(r'C:\\Users\\Usuário\\Documents\\GitHub\\GOAT\\data\\cristiano_vs_messi.csv', sep=',')\n",
    "\n",
    "# Dados de Títulos\n",
    "# Cristiano Ronaldo\n",
    "df_CR = pd.read_csv(r'C:\\Users\\Usuário\\Documents\\GitHub\\GOAT\\data\\CR.csv', sep=',')\n",
    "\n",
    "# Lionel Messi\n",
    "df_M = pd.read_csv(r'C:\\Users\\Usuário\\Documents\\GitHub\\GOAT\\data\\Messi.csv', sep=',')"
   ]
  },
  {
   "cell_type": "markdown",
   "id": "040bb59d",
   "metadata": {},
   "source": [
    "## 3. Exploração dos Dados"
   ]
  },
  {
   "cell_type": "markdown",
   "id": "3899b8f8",
   "metadata": {},
   "source": [
    "Nesta etapa iremos explorar os três arquivos para compreender e qualificar esses dados. Iremos olhar com carinho para esses dados para verificar quais serão - ou não - utilizados desta vez!"
   ]
  },
  {
   "cell_type": "markdown",
   "id": "1586b3b5",
   "metadata": {},
   "source": [
    "## Dados de Gols"
   ]
  },
  {
   "cell_type": "markdown",
   "id": "1d19e016",
   "metadata": {},
   "source": [
    "### Dicionário de Dados\n",
    "* Player: Jogador\n",
    "* Comp: Competição por qual o jogo era válido \n",
    "* Round: Fase da competição\n",
    "* Date: Data do jogo \n",
    "* Venue: mandante do jogo\n",
    "    \n",
    "        h: jogo em casa\n",
    "        a: jogo com mando do adversário)\n",
    "\n",
    "* Opp: Oponente / Adversário \n",
    "* Pos: Posição que ele jogou \n",
    "* Min: tempo de jogo em que foi feito o gol \n",
    "* Type: como o gol foi feito\n",
    "\n",
    "        perna direita/esquerda\n",
    "        cabeça\n",
    "        pênalti\n",
    "* Assisted: quem deu assistência para o gol"
   ]
  },
  {
   "cell_type": "code",
   "execution_count": 3,
   "id": "ba8a9fec",
   "metadata": {},
   "outputs": [
    {
     "data": {
      "text/html": [
       "<div>\n",
       "<style scoped>\n",
       "    .dataframe tbody tr th:only-of-type {\n",
       "        vertical-align: middle;\n",
       "    }\n",
       "\n",
       "    .dataframe tbody tr th {\n",
       "        vertical-align: top;\n",
       "    }\n",
       "\n",
       "    .dataframe thead th {\n",
       "        text-align: right;\n",
       "    }\n",
       "</style>\n",
       "<table border=\"1\" class=\"dataframe\">\n",
       "  <thead>\n",
       "    <tr style=\"text-align: right;\">\n",
       "      <th></th>\n",
       "      <th>player</th>\n",
       "      <th>comp</th>\n",
       "      <th>round</th>\n",
       "      <th>date</th>\n",
       "      <th>venue</th>\n",
       "      <th>opp</th>\n",
       "      <th>pos</th>\n",
       "      <th>min</th>\n",
       "      <th>type</th>\n",
       "      <th>assisted</th>\n",
       "    </tr>\n",
       "  </thead>\n",
       "  <tbody>\n",
       "    <tr>\n",
       "      <th>0</th>\n",
       "      <td>ronaldo</td>\n",
       "      <td>Liga NOS</td>\n",
       "      <td>6</td>\n",
       "      <td>10/7/2002</td>\n",
       "      <td>H</td>\n",
       "      <td>Moreirense</td>\n",
       "      <td>RW</td>\n",
       "      <td>34'</td>\n",
       "      <td>NaN</td>\n",
       "      <td>NaN</td>\n",
       "    </tr>\n",
       "    <tr>\n",
       "      <th>1</th>\n",
       "      <td>ronaldo</td>\n",
       "      <td>Liga NOS</td>\n",
       "      <td>6</td>\n",
       "      <td>10/7/2002</td>\n",
       "      <td>H</td>\n",
       "      <td>Moreirense</td>\n",
       "      <td>NaN</td>\n",
       "      <td>90'</td>\n",
       "      <td>NaN</td>\n",
       "      <td>NaN</td>\n",
       "    </tr>\n",
       "    <tr>\n",
       "      <th>2</th>\n",
       "      <td>ronaldo</td>\n",
       "      <td>Liga NOS</td>\n",
       "      <td>8</td>\n",
       "      <td>10/26/2002</td>\n",
       "      <td>A</td>\n",
       "      <td>Boavista</td>\n",
       "      <td>NaN</td>\n",
       "      <td>88'</td>\n",
       "      <td>NaN</td>\n",
       "      <td>Carlos Martins</td>\n",
       "    </tr>\n",
       "    <tr>\n",
       "      <th>3</th>\n",
       "      <td>ronaldo</td>\n",
       "      <td>Taça de Portugal Placard</td>\n",
       "      <td>Fourth Round</td>\n",
       "      <td>11/24/2002</td>\n",
       "      <td>H</td>\n",
       "      <td>Estarreja</td>\n",
       "      <td>NaN</td>\n",
       "      <td>67'</td>\n",
       "      <td>Left-footed shot</td>\n",
       "      <td>César Prates</td>\n",
       "    </tr>\n",
       "    <tr>\n",
       "      <th>4</th>\n",
       "      <td>ronaldo</td>\n",
       "      <td>Taça de Portugal Placard</td>\n",
       "      <td>Fifth Round</td>\n",
       "      <td>12/18/2002</td>\n",
       "      <td>H</td>\n",
       "      <td>Oliv. Hospital</td>\n",
       "      <td>NaN</td>\n",
       "      <td>13'</td>\n",
       "      <td>NaN</td>\n",
       "      <td>NaN</td>\n",
       "    </tr>\n",
       "  </tbody>\n",
       "</table>\n",
       "</div>"
      ],
      "text/plain": [
       "    player                      comp         round        date venue  \\\n",
       "0  ronaldo                  Liga NOS             6   10/7/2002     H   \n",
       "1  ronaldo                  Liga NOS             6   10/7/2002     H   \n",
       "2  ronaldo                  Liga NOS             8  10/26/2002     A   \n",
       "3  ronaldo  Taça de Portugal Placard  Fourth Round  11/24/2002     H   \n",
       "4  ronaldo  Taça de Portugal Placard   Fifth Round  12/18/2002     H   \n",
       "\n",
       "              opp  pos  min              type        assisted  \n",
       "0     Moreirense    RW  34'               NaN             NaN  \n",
       "1     Moreirense   NaN  90'               NaN             NaN  \n",
       "2        Boavista  NaN  88'               NaN  Carlos Martins  \n",
       "3       Estarreja  NaN  67'  Left-footed shot    César Prates  \n",
       "4  Oliv. Hospital  NaN  13'               NaN             NaN  "
      ]
     },
     "execution_count": 3,
     "metadata": {},
     "output_type": "execute_result"
    }
   ],
   "source": [
    "df_G.head()"
   ]
  },
  {
   "cell_type": "code",
   "execution_count": 4,
   "id": "5441b22b",
   "metadata": {},
   "outputs": [
    {
     "data": {
      "text/plain": [
       "player      object\n",
       "comp        object\n",
       "round       object\n",
       "date        object\n",
       "venue       object\n",
       "opp         object\n",
       "pos         object\n",
       "min         object\n",
       "type        object\n",
       "assisted    object\n",
       "dtype: object"
      ]
     },
     "execution_count": 4,
     "metadata": {},
     "output_type": "execute_result"
    }
   ],
   "source": [
    "df_G.dtypes"
   ]
  },
  {
   "cell_type": "markdown",
   "id": "60cb0813",
   "metadata": {},
   "source": [
    "#### Dados Nulos"
   ]
  },
  {
   "cell_type": "code",
   "execution_count": 5,
   "id": "0d44abbb",
   "metadata": {},
   "outputs": [
    {
     "data": {
      "text/plain": [
       "pos         39.000000\n",
       "comp        34.923077\n",
       "round       34.923077\n",
       "date        34.923077\n",
       "venue       34.923077\n",
       "opp         34.923077\n",
       "assisted    32.769231\n",
       "type         1.461538\n",
       "player       0.000000\n",
       "min          0.000000\n",
       "dtype: float64"
      ]
     },
     "execution_count": 5,
     "metadata": {},
     "output_type": "execute_result"
    }
   ],
   "source": [
    "# verificar a porcentagem de valores faltantes da base de treino\n",
    "((df_G.isnull().sum() / df_G.shape[0])*100).sort_values(ascending=False)"
   ]
  },
  {
   "cell_type": "code",
   "execution_count": 6,
   "id": "435260d9",
   "metadata": {},
   "outputs": [
    {
     "data": {
      "text/plain": [
       "454"
      ]
     },
     "execution_count": 6,
     "metadata": {},
     "output_type": "execute_result"
    }
   ],
   "source": [
    "df_G['round'].isnull().sum()\n"
   ]
  },
  {
   "cell_type": "markdown",
   "id": "7b44e311",
   "metadata": {},
   "source": [
    "#### Dados por colunas"
   ]
  },
  {
   "cell_type": "code",
   "execution_count": 7,
   "id": "942e875c",
   "metadata": {},
   "outputs": [
    {
     "data": {
      "text/plain": [
       "round         \n",
       "Group Stage       91\n",
       "last 16           48\n",
       "Quarter-Finals    37\n",
       "Semi-Finals       29\n",
       "Final             24\n",
       "25                23\n",
       "8                 21\n",
       "20                21\n",
       "13                20\n",
       "24                19\n",
       "15                19\n",
       "6                 18\n",
       "21                18\n",
       "31                18\n",
       "28                18\n",
       "18                17\n",
       "26                17\n",
       "27                17\n",
       "19                16\n",
       "9                 16\n",
       "30                16\n",
       "29                16\n",
       "3                 15\n",
       "22                15\n",
       "11                15\n",
       "34                15\n",
       "35                15\n",
       "17                15\n",
       "38                15\n",
       "4                 14\n",
       "37                14\n",
       "final             13\n",
       "1                 13\n",
       "23                13\n",
       "16                13\n",
       "12                13\n",
       "14                13\n",
       "33                13\n",
       "36                13\n",
       "32                12\n",
       "10                10\n",
       "2                 10\n",
       "7                  9\n",
       "5                  8\n",
       "Fifth Round        5\n",
       "4th round          3\n",
       "Round of 16        3\n",
       "Third Round        3\n",
       "Fourth Round       2\n",
       "Sixth Round        2\n",
       "6th round          1\n",
       "5th round          1\n",
       "3rd round          1\n",
       "dtype: int64"
      ]
     },
     "execution_count": 7,
     "metadata": {},
     "output_type": "execute_result"
    }
   ],
   "source": [
    "# Coluna Rodadas\n",
    "df_G[['round']].value_counts()"
   ]
  },
  {
   "cell_type": "code",
   "execution_count": 8,
   "id": "75406d07",
   "metadata": {},
   "outputs": [
    {
     "data": {
      "text/plain": [
       "<Axes: >"
      ]
     },
     "execution_count": 8,
     "metadata": {},
     "output_type": "execute_result"
    },
    {
     "data": {
      "image/png": "[encoded data removed]",
      "text/plain": [
       "<Figure size 640x480 with 1 Axes>"
      ]
     },
     "metadata": {},
     "output_type": "display_data"
    }
   ],
   "source": [
    "# Cria um array com os valores da coluna 'min'\n",
    "coluna = np.array(df_G['min'])\n",
    "\n",
    "# Cria um DataFrame com a coluna 'Minutos'\n",
    "df = pd.DataFrame({'Minutos': coluna})\n",
    "df['Minutos'] = df['Minutos'].str.replace(\"'\", \"\")\n",
    "df['Minutos'] = df['Minutos'].str.replace(\"+\", \"0\", regex=True)\n",
    "df['Minutos'] = pd.to_numeric(df['Minutos'])\n",
    "\n",
    "# Imprime o DataFrame\n",
    "df.boxplot(column='Minutos')"
   ]
  },
  {
   "cell_type": "code",
   "execution_count": 9,
   "id": "47aa02d8",
   "metadata": {},
   "outputs": [
    {
     "data": {
      "text/plain": [
       "comp                      round         \n",
       "Champions League          Group Stage       91\n",
       "                          last 16           33\n",
       "                          Quarter-Finals    22\n",
       "                          Semi-Finals       11\n",
       "                          Final              5\n",
       "                                            ..\n",
       "Supercopa                 Semi-Finals        1\n",
       "Supercoppa Italiana       Final              1\n",
       "Taça de Portugal Placard  Fifth Round        1\n",
       "                          Fourth Round       1\n",
       "UEFA Super Cup            Final              3\n",
       "Length: 139, dtype: int64"
      ]
     },
     "execution_count": 9,
     "metadata": {},
     "output_type": "execute_result"
    }
   ],
   "source": [
    "# Quantidade de Gols dos Jogador por Competição\n",
    "df_G[['comp','round']].groupby('comp').value_counts()"
   ]
  },
  {
   "cell_type": "code",
   "execution_count": 10,
   "id": "5583deae",
   "metadata": {},
   "outputs": [
    {
     "data": {
      "text/plain": [
       "comp                         player \n",
       "Champions League             ronaldo     88\n",
       "                             messi       74\n",
       "Champions League Qualifying  ronaldo      1\n",
       "Club World Cup               ronaldo      5\n",
       "                             messi        4\n",
       "Copa del Rey                 messi       37\n",
       "                             ronaldo     16\n",
       "Coppa Italia                 ronaldo      2\n",
       "EFL Cup                      ronaldo      4\n",
       "FA Cup                       ronaldo     12\n",
       "LaLiga                       messi      285\n",
       "                             ronaldo    183\n",
       "Liga NOS                     ronaldo      3\n",
       "Premier League               ronaldo     63\n",
       "Serie A                      ronaldo     49\n",
       "Supercopa                    messi       10\n",
       "                             ronaldo      4\n",
       "Supercoppa Italiana          ronaldo      1\n",
       "Taça de Portugal Placard     ronaldo      2\n",
       "UEFA Super Cup               messi        2\n",
       "                             ronaldo      1\n",
       "dtype: int64"
      ]
     },
     "execution_count": 10,
     "metadata": {},
     "output_type": "execute_result"
    }
   ],
   "source": [
    "# Quantidade de Gols dos Jogador por Competição\n",
    "df_G[['player','comp']].groupby('comp').value_counts()"
   ]
  },
  {
   "cell_type": "markdown",
   "id": "faab2b9e",
   "metadata": {},
   "source": [
    "## Dados de Títulos"
   ]
  },
  {
   "cell_type": "code",
   "execution_count": 11,
   "id": "53a09e3c",
   "metadata": {
    "scrolled": true
   },
   "outputs": [
    {
     "data": {
      "text/html": [
       "<div>\n",
       "<style scoped>\n",
       "    .dataframe tbody tr th:only-of-type {\n",
       "        vertical-align: middle;\n",
       "    }\n",
       "\n",
       "    .dataframe tbody tr th {\n",
       "        vertical-align: top;\n",
       "    }\n",
       "\n",
       "    .dataframe thead th {\n",
       "        text-align: right;\n",
       "    }\n",
       "</style>\n",
       "<table border=\"1\" class=\"dataframe\">\n",
       "  <thead>\n",
       "    <tr style=\"text-align: right;\">\n",
       "      <th></th>\n",
       "      <th>TÍTULO</th>\n",
       "      <th>ANO</th>\n",
       "      <th>CLUBE</th>\n",
       "    </tr>\n",
       "  </thead>\n",
       "  <tbody>\n",
       "    <tr>\n",
       "      <th>0</th>\n",
       "      <td>3X MELHOR JOGADOR DO MUNDO</td>\n",
       "      <td>2017</td>\n",
       "      <td>Real Madrid CF</td>\n",
       "    </tr>\n",
       "    <tr>\n",
       "      <th>1</th>\n",
       "      <td>3X MELHOR JOGADOR DO MUNDO</td>\n",
       "      <td>2016</td>\n",
       "      <td>Real Madrid CF</td>\n",
       "    </tr>\n",
       "    <tr>\n",
       "      <th>2</th>\n",
       "      <td>3X MELHOR JOGADOR DO MUNDO</td>\n",
       "      <td>2008</td>\n",
       "      <td>Manchester United FC</td>\n",
       "    </tr>\n",
       "    <tr>\n",
       "      <th>3</th>\n",
       "      <td>5X VENCEDOR BALLON D'OR</td>\n",
       "      <td>2017</td>\n",
       "      <td>Cristiano Ronaldo</td>\n",
       "    </tr>\n",
       "    <tr>\n",
       "      <th>4</th>\n",
       "      <td>5X VENCEDOR BALLON D'OR</td>\n",
       "      <td>2016</td>\n",
       "      <td>Cristiano Ronaldo</td>\n",
       "    </tr>\n",
       "  </tbody>\n",
       "</table>\n",
       "</div>"
      ],
      "text/plain": [
       "                       TÍTULO   ANO                 CLUBE\n",
       "0  3X MELHOR JOGADOR DO MUNDO  2017        Real Madrid CF\n",
       "1  3X MELHOR JOGADOR DO MUNDO  2016        Real Madrid CF\n",
       "2  3X MELHOR JOGADOR DO MUNDO  2008  Manchester United FC\n",
       "3     5X VENCEDOR BALLON D'OR  2017     Cristiano Ronaldo\n",
       "4     5X VENCEDOR BALLON D'OR  2016     Cristiano Ronaldo"
      ]
     },
     "execution_count": 11,
     "metadata": {},
     "output_type": "execute_result"
    }
   ],
   "source": [
    "df_CR.head()"
   ]
  },
  {
   "cell_type": "code",
   "execution_count": 12,
   "id": "8218c6d3",
   "metadata": {
    "scrolled": false
   },
   "outputs": [
    {
     "data": {
      "text/html": [
       "<div>\n",
       "<style scoped>\n",
       "    .dataframe tbody tr th:only-of-type {\n",
       "        vertical-align: middle;\n",
       "    }\n",
       "\n",
       "    .dataframe tbody tr th {\n",
       "        vertical-align: top;\n",
       "    }\n",
       "\n",
       "    .dataframe thead th {\n",
       "        text-align: right;\n",
       "    }\n",
       "</style>\n",
       "<table border=\"1\" class=\"dataframe\">\n",
       "  <thead>\n",
       "    <tr style=\"text-align: right;\">\n",
       "      <th></th>\n",
       "      <th>TÍTULO</th>\n",
       "      <th>ANO</th>\n",
       "      <th>CLUBE</th>\n",
       "    </tr>\n",
       "  </thead>\n",
       "  <tbody>\n",
       "    <tr>\n",
       "      <th>0</th>\n",
       "      <td>3X MELHOR JOGADOR DO MUNDO</td>\n",
       "      <td>2022</td>\n",
       "      <td>Lionel Messi</td>\n",
       "    </tr>\n",
       "    <tr>\n",
       "      <th>1</th>\n",
       "      <td>3X MELHOR JOGADOR DO MUNDO</td>\n",
       "      <td>2019</td>\n",
       "      <td>Lionel Messi</td>\n",
       "    </tr>\n",
       "    <tr>\n",
       "      <th>2</th>\n",
       "      <td>3X MELHOR JOGADOR DO MUNDO</td>\n",
       "      <td>2009</td>\n",
       "      <td>Lionel Messi</td>\n",
       "    </tr>\n",
       "    <tr>\n",
       "      <th>3</th>\n",
       "      <td>7X VENCEDOR BALLON D'OR</td>\n",
       "      <td>2021</td>\n",
       "      <td>Lionel Messi</td>\n",
       "    </tr>\n",
       "    <tr>\n",
       "      <th>4</th>\n",
       "      <td>7X VENCEDOR BALLON D'OR</td>\n",
       "      <td>2019</td>\n",
       "      <td>Lionel Messi</td>\n",
       "    </tr>\n",
       "  </tbody>\n",
       "</table>\n",
       "</div>"
      ],
      "text/plain": [
       "                       TÍTULO   ANO         CLUBE\n",
       "0  3X MELHOR JOGADOR DO MUNDO  2022  Lionel Messi\n",
       "1  3X MELHOR JOGADOR DO MUNDO  2019  Lionel Messi\n",
       "2  3X MELHOR JOGADOR DO MUNDO  2009  Lionel Messi\n",
       "3     7X VENCEDOR BALLON D'OR  2021  Lionel Messi\n",
       "4     7X VENCEDOR BALLON D'OR  2019  Lionel Messi"
      ]
     },
     "execution_count": 12,
     "metadata": {},
     "output_type": "execute_result"
    }
   ],
   "source": [
    "df_M.head()"
   ]
  },
  {
   "cell_type": "code",
   "execution_count": 13,
   "id": "1c2b389c",
   "metadata": {},
   "outputs": [
    {
     "data": {
      "text/plain": [
       "TÍTULO    object\n",
       "ANO       object\n",
       "CLUBE     object\n",
       "dtype: object"
      ]
     },
     "execution_count": 13,
     "metadata": {},
     "output_type": "execute_result"
    }
   ],
   "source": [
    "df_CR.dtypes"
   ]
  },
  {
   "cell_type": "code",
   "execution_count": 14,
   "id": "d46f0cea",
   "metadata": {
    "scrolled": true
   },
   "outputs": [
    {
     "data": {
      "text/plain": [
       "TÍTULO    object\n",
       "ANO       object\n",
       "CLUBE     object\n",
       "dtype: object"
      ]
     },
     "execution_count": 14,
     "metadata": {},
     "output_type": "execute_result"
    }
   ],
   "source": [
    "df_M.dtypes"
   ]
  },
  {
   "cell_type": "markdown",
   "id": "e6ba025f",
   "metadata": {},
   "source": [
    "### Dados Nulos"
   ]
  },
  {
   "cell_type": "code",
   "execution_count": 15,
   "id": "c9eb71cc",
   "metadata": {},
   "outputs": [
    {
     "data": {
      "text/plain": [
       "TÍTULO    0.0\n",
       "ANO       0.0\n",
       "CLUBE     0.0\n",
       "dtype: float64"
      ]
     },
     "execution_count": 15,
     "metadata": {},
     "output_type": "execute_result"
    }
   ],
   "source": [
    "# verificar a porcentagem de valores faltantes da base de treino\n",
    "((df_CR.isnull().sum() / df_CR.shape[0])*100).sort_values(ascending=False)"
   ]
  },
  {
   "cell_type": "code",
   "execution_count": 16,
   "id": "2086997e",
   "metadata": {
    "scrolled": true
   },
   "outputs": [
    {
     "data": {
      "text/plain": [
       "TÍTULO    0.0\n",
       "ANO       0.0\n",
       "CLUBE     0.0\n",
       "dtype: float64"
      ]
     },
     "execution_count": 16,
     "metadata": {},
     "output_type": "execute_result"
    }
   ],
   "source": [
    "# verificar a porcentagem de valores faltantes da base de treino\n",
    "((df_M.isnull().sum() / df_M.shape[0])*100).sort_values(ascending=False)"
   ]
  },
  {
   "cell_type": "markdown",
   "id": "d7d5ff3e",
   "metadata": {},
   "source": [
    "#### Dados por colunas"
   ]
  },
  {
   "cell_type": "code",
   "execution_count": 17,
   "id": "a0b785a3",
   "metadata": {
    "scrolled": true
   },
   "outputs": [
    {
     "data": {
      "text/plain": [
       "77"
      ]
     },
     "execution_count": 17,
     "metadata": {},
     "output_type": "execute_result"
    }
   ],
   "source": [
    "df_CR['TÍTULO'].value_counts().sum()\n"
   ]
  },
  {
   "cell_type": "code",
   "execution_count": 18,
   "id": "e0490cd1",
   "metadata": {},
   "outputs": [
    {
     "data": {
      "text/plain": [
       "81"
      ]
     },
     "execution_count": 18,
     "metadata": {},
     "output_type": "execute_result"
    }
   ],
   "source": [
    "df_M['TÍTULO'].value_counts().sum()"
   ]
  },
  {
   "cell_type": "markdown",
   "id": "60517947",
   "metadata": {},
   "source": [
    "Durante a exploração dos dados pudemos perceber que:\n",
    "\n",
    "1. Precisaremos transformar o tipo da coluna date (object para datetime);\n",
    "2. Tratar a coluna min: transformar os dados (34' para 34), transformar seu tipo para numérica e tratar os dois outliers que possuem '+' dentro dos valores;\n",
    "3. Tratar a coluna de Rodadas (rounds), pois os dados estão escritos de maneira diferente (Fourth round, 4th round)\n",
    "4. Alterar o nome das colunas para ficar mais legível\n",
    "5. Tratar os dados nulos das colunas que irão permanecer\n",
    "6. Excluir as colunas que não serão utilizadas: \n",
    "7. Tratar as tabelas de títulos para retirar a quantidade de vezes de cada título\n",
    "8. Criar uma nova coluna chamada 'Temporada' para as informações que não são dadas em anos"
   ]
  },
  {
   "cell_type": "markdown",
   "id": "3adb828f",
   "metadata": {},
   "source": [
    "## 4. Preparação dos Dados"
   ]
  },
  {
   "cell_type": "code",
   "execution_count": 19,
   "id": "b227e168",
   "metadata": {
    "scrolled": true
   },
   "outputs": [
    {
     "data": {
      "text/html": [
       "<div>\n",
       "<style scoped>\n",
       "    .dataframe tbody tr th:only-of-type {\n",
       "        vertical-align: middle;\n",
       "    }\n",
       "\n",
       "    .dataframe tbody tr th {\n",
       "        vertical-align: top;\n",
       "    }\n",
       "\n",
       "    .dataframe thead th {\n",
       "        text-align: right;\n",
       "    }\n",
       "</style>\n",
       "<table border=\"1\" class=\"dataframe\">\n",
       "  <thead>\n",
       "    <tr style=\"text-align: right;\">\n",
       "      <th></th>\n",
       "      <th>player</th>\n",
       "      <th>comp</th>\n",
       "      <th>round</th>\n",
       "      <th>date</th>\n",
       "      <th>venue</th>\n",
       "      <th>opp</th>\n",
       "      <th>pos</th>\n",
       "      <th>min</th>\n",
       "      <th>type</th>\n",
       "      <th>assisted</th>\n",
       "    </tr>\n",
       "  </thead>\n",
       "  <tbody>\n",
       "    <tr>\n",
       "      <th>0</th>\n",
       "      <td>ronaldo</td>\n",
       "      <td>Liga NOS</td>\n",
       "      <td>6</td>\n",
       "      <td>10/7/2002</td>\n",
       "      <td>H</td>\n",
       "      <td>Moreirense</td>\n",
       "      <td>RW</td>\n",
       "      <td>34'</td>\n",
       "      <td>NaN</td>\n",
       "      <td>NaN</td>\n",
       "    </tr>\n",
       "    <tr>\n",
       "      <th>1</th>\n",
       "      <td>ronaldo</td>\n",
       "      <td>Liga NOS</td>\n",
       "      <td>6</td>\n",
       "      <td>10/7/2002</td>\n",
       "      <td>H</td>\n",
       "      <td>Moreirense</td>\n",
       "      <td>NaN</td>\n",
       "      <td>90'</td>\n",
       "      <td>NaN</td>\n",
       "      <td>NaN</td>\n",
       "    </tr>\n",
       "    <tr>\n",
       "      <th>2</th>\n",
       "      <td>ronaldo</td>\n",
       "      <td>Liga NOS</td>\n",
       "      <td>8</td>\n",
       "      <td>10/26/2002</td>\n",
       "      <td>A</td>\n",
       "      <td>Boavista</td>\n",
       "      <td>NaN</td>\n",
       "      <td>88'</td>\n",
       "      <td>NaN</td>\n",
       "      <td>Carlos Martins</td>\n",
       "    </tr>\n",
       "    <tr>\n",
       "      <th>3</th>\n",
       "      <td>ronaldo</td>\n",
       "      <td>Taça de Portugal Placard</td>\n",
       "      <td>Fourth Round</td>\n",
       "      <td>11/24/2002</td>\n",
       "      <td>H</td>\n",
       "      <td>Estarreja</td>\n",
       "      <td>NaN</td>\n",
       "      <td>67'</td>\n",
       "      <td>Left-footed shot</td>\n",
       "      <td>César Prates</td>\n",
       "    </tr>\n",
       "    <tr>\n",
       "      <th>4</th>\n",
       "      <td>ronaldo</td>\n",
       "      <td>Taça de Portugal Placard</td>\n",
       "      <td>Fifth Round</td>\n",
       "      <td>12/18/2002</td>\n",
       "      <td>H</td>\n",
       "      <td>Oliv. Hospital</td>\n",
       "      <td>NaN</td>\n",
       "      <td>13'</td>\n",
       "      <td>NaN</td>\n",
       "      <td>NaN</td>\n",
       "    </tr>\n",
       "  </tbody>\n",
       "</table>\n",
       "</div>"
      ],
      "text/plain": [
       "    player                      comp         round        date venue  \\\n",
       "0  ronaldo                  Liga NOS             6   10/7/2002     H   \n",
       "1  ronaldo                  Liga NOS             6   10/7/2002     H   \n",
       "2  ronaldo                  Liga NOS             8  10/26/2002     A   \n",
       "3  ronaldo  Taça de Portugal Placard  Fourth Round  11/24/2002     H   \n",
       "4  ronaldo  Taça de Portugal Placard   Fifth Round  12/18/2002     H   \n",
       "\n",
       "              opp  pos  min              type        assisted  \n",
       "0     Moreirense    RW  34'               NaN             NaN  \n",
       "1     Moreirense   NaN  90'               NaN             NaN  \n",
       "2        Boavista  NaN  88'               NaN  Carlos Martins  \n",
       "3       Estarreja  NaN  67'  Left-footed shot    César Prates  \n",
       "4  Oliv. Hospital  NaN  13'               NaN             NaN  "
      ]
     },
     "execution_count": 19,
     "metadata": {},
     "output_type": "execute_result"
    }
   ],
   "source": [
    "df_G.head()"
   ]
  },
  {
   "cell_type": "markdown",
   "id": "14f32648",
   "metadata": {},
   "source": [
    "### Tratando os nomes das colunas e os nomes dos jogadores"
   ]
  },
  {
   "cell_type": "code",
   "execution_count": 20,
   "id": "3f8518e9",
   "metadata": {
    "scrolled": false
   },
   "outputs": [],
   "source": [
    "# Trocando nomes das colunas\n",
    "new_df_G = pd.DataFrame(data=df_G)\n",
    "new_df_G = new_df_G.rename(columns={'player':'Jogador', 'comp': 'Campeonato', 'round':'Rodada', 'date':'Data', 'venue':'Mandante', 'opp':'Oponente', 'pos':'Posição', 'min':'Minuto', 'type':'Tipo', 'assisted':'Assistido por'})"
   ]
  },
  {
   "cell_type": "code",
   "execution_count": 21,
   "id": "d0d5d062",
   "metadata": {},
   "outputs": [],
   "source": [
    "new_df_G = new_df_G.replace('ronaldo','Ronaldo')"
   ]
  },
  {
   "cell_type": "code",
   "execution_count": 22,
   "id": "9765a0ae",
   "metadata": {},
   "outputs": [
    {
     "data": {
      "text/html": [
       "<div>\n",
       "<style scoped>\n",
       "    .dataframe tbody tr th:only-of-type {\n",
       "        vertical-align: middle;\n",
       "    }\n",
       "\n",
       "    .dataframe tbody tr th {\n",
       "        vertical-align: top;\n",
       "    }\n",
       "\n",
       "    .dataframe thead th {\n",
       "        text-align: right;\n",
       "    }\n",
       "</style>\n",
       "<table border=\"1\" class=\"dataframe\">\n",
       "  <thead>\n",
       "    <tr style=\"text-align: right;\">\n",
       "      <th></th>\n",
       "      <th>Jogador</th>\n",
       "      <th>Campeonato</th>\n",
       "      <th>Rodada</th>\n",
       "      <th>Data</th>\n",
       "      <th>Mandante</th>\n",
       "      <th>Oponente</th>\n",
       "      <th>Posição</th>\n",
       "      <th>Minuto</th>\n",
       "      <th>Tipo</th>\n",
       "      <th>Assistido por</th>\n",
       "    </tr>\n",
       "  </thead>\n",
       "  <tbody>\n",
       "    <tr>\n",
       "      <th>0</th>\n",
       "      <td>Ronaldo</td>\n",
       "      <td>Liga NOS</td>\n",
       "      <td>6</td>\n",
       "      <td>10/7/2002</td>\n",
       "      <td>H</td>\n",
       "      <td>Moreirense</td>\n",
       "      <td>RW</td>\n",
       "      <td>34'</td>\n",
       "      <td>NaN</td>\n",
       "      <td>NaN</td>\n",
       "    </tr>\n",
       "    <tr>\n",
       "      <th>1</th>\n",
       "      <td>Ronaldo</td>\n",
       "      <td>Liga NOS</td>\n",
       "      <td>6</td>\n",
       "      <td>10/7/2002</td>\n",
       "      <td>H</td>\n",
       "      <td>Moreirense</td>\n",
       "      <td>NaN</td>\n",
       "      <td>90'</td>\n",
       "      <td>NaN</td>\n",
       "      <td>NaN</td>\n",
       "    </tr>\n",
       "    <tr>\n",
       "      <th>2</th>\n",
       "      <td>Ronaldo</td>\n",
       "      <td>Liga NOS</td>\n",
       "      <td>8</td>\n",
       "      <td>10/26/2002</td>\n",
       "      <td>A</td>\n",
       "      <td>Boavista</td>\n",
       "      <td>NaN</td>\n",
       "      <td>88'</td>\n",
       "      <td>NaN</td>\n",
       "      <td>Carlos Martins</td>\n",
       "    </tr>\n",
       "    <tr>\n",
       "      <th>3</th>\n",
       "      <td>Ronaldo</td>\n",
       "      <td>Taça de Portugal Placard</td>\n",
       "      <td>Fourth Round</td>\n",
       "      <td>11/24/2002</td>\n",
       "      <td>H</td>\n",
       "      <td>Estarreja</td>\n",
       "      <td>NaN</td>\n",
       "      <td>67'</td>\n",
       "      <td>Left-footed shot</td>\n",
       "      <td>César Prates</td>\n",
       "    </tr>\n",
       "    <tr>\n",
       "      <th>4</th>\n",
       "      <td>Ronaldo</td>\n",
       "      <td>Taça de Portugal Placard</td>\n",
       "      <td>Fifth Round</td>\n",
       "      <td>12/18/2002</td>\n",
       "      <td>H</td>\n",
       "      <td>Oliv. Hospital</td>\n",
       "      <td>NaN</td>\n",
       "      <td>13'</td>\n",
       "      <td>NaN</td>\n",
       "      <td>NaN</td>\n",
       "    </tr>\n",
       "    <tr>\n",
       "      <th>...</th>\n",
       "      <td>...</td>\n",
       "      <td>...</td>\n",
       "      <td>...</td>\n",
       "      <td>...</td>\n",
       "      <td>...</td>\n",
       "      <td>...</td>\n",
       "      <td>...</td>\n",
       "      <td>...</td>\n",
       "      <td>...</td>\n",
       "      <td>...</td>\n",
       "    </tr>\n",
       "    <tr>\n",
       "      <th>1295</th>\n",
       "      <td>Messi</td>\n",
       "      <td>NaN</td>\n",
       "      <td>NaN</td>\n",
       "      <td>NaN</td>\n",
       "      <td>NaN</td>\n",
       "      <td>NaN</td>\n",
       "      <td>NaN</td>\n",
       "      <td>82'</td>\n",
       "      <td>Left-footed shot</td>\n",
       "      <td>Sergi Roberto</td>\n",
       "    </tr>\n",
       "    <tr>\n",
       "      <th>1296</th>\n",
       "      <td>Messi</td>\n",
       "      <td>LaLiga</td>\n",
       "      <td>11</td>\n",
       "      <td>11/29/2020</td>\n",
       "      <td>H</td>\n",
       "      <td>CA Osasuna</td>\n",
       "      <td>RW</td>\n",
       "      <td>73'</td>\n",
       "      <td>Left-footed shot</td>\n",
       "      <td>Trincão</td>\n",
       "    </tr>\n",
       "    <tr>\n",
       "      <th>1297</th>\n",
       "      <td>Messi</td>\n",
       "      <td>LaLiga</td>\n",
       "      <td>13</td>\n",
       "      <td>12/13/2020</td>\n",
       "      <td>H</td>\n",
       "      <td>Levante</td>\n",
       "      <td>CF</td>\n",
       "      <td>76'</td>\n",
       "      <td>Left-footed shot</td>\n",
       "      <td>Frenkie de Jong</td>\n",
       "    </tr>\n",
       "    <tr>\n",
       "      <th>1298</th>\n",
       "      <td>Messi</td>\n",
       "      <td>LaLiga</td>\n",
       "      <td>14</td>\n",
       "      <td>12/19/2020</td>\n",
       "      <td>H</td>\n",
       "      <td>Valencia</td>\n",
       "      <td>CF</td>\n",
       "      <td>45'+4</td>\n",
       "      <td>Header</td>\n",
       "      <td>NaN</td>\n",
       "    </tr>\n",
       "    <tr>\n",
       "      <th>1299</th>\n",
       "      <td>Messi</td>\n",
       "      <td>LaLiga</td>\n",
       "      <td>15</td>\n",
       "      <td>12/22/2020</td>\n",
       "      <td>A</td>\n",
       "      <td>Real Valladolid</td>\n",
       "      <td>SS</td>\n",
       "      <td>65'</td>\n",
       "      <td>Left-footed shot</td>\n",
       "      <td>Pedri</td>\n",
       "    </tr>\n",
       "  </tbody>\n",
       "</table>\n",
       "<p>1300 rows × 10 columns</p>\n",
       "</div>"
      ],
      "text/plain": [
       "      Jogador                Campeonato        Rodada        Data Mandante  \\\n",
       "0     Ronaldo                  Liga NOS             6   10/7/2002        H   \n",
       "1     Ronaldo                  Liga NOS             6   10/7/2002        H   \n",
       "2     Ronaldo                  Liga NOS             8  10/26/2002        A   \n",
       "3     Ronaldo  Taça de Portugal Placard  Fourth Round  11/24/2002        H   \n",
       "4     Ronaldo  Taça de Portugal Placard   Fifth Round  12/18/2002        H   \n",
       "...       ...                       ...           ...         ...      ...   \n",
       "1295    Messi                       NaN           NaN         NaN      NaN   \n",
       "1296    Messi                    LaLiga            11  11/29/2020        H   \n",
       "1297    Messi                    LaLiga            13  12/13/2020        H   \n",
       "1298    Messi                    LaLiga            14  12/19/2020        H   \n",
       "1299    Messi                    LaLiga            15  12/22/2020        A   \n",
       "\n",
       "               Oponente Posição Minuto              Tipo    Assistido por  \n",
       "0           Moreirense       RW    34'               NaN              NaN  \n",
       "1           Moreirense      NaN    90'               NaN              NaN  \n",
       "2              Boavista     NaN    88'               NaN   Carlos Martins  \n",
       "3             Estarreja     NaN    67'  Left-footed shot     César Prates  \n",
       "4        Oliv. Hospital     NaN    13'               NaN              NaN  \n",
       "...                 ...     ...    ...               ...              ...  \n",
       "1295                NaN     NaN    82'  Left-footed shot    Sergi Roberto  \n",
       "1296       CA Osasuna       RW     73'  Left-footed shot          Trincão  \n",
       "1297          Levante       CF     76'  Left-footed shot  Frenkie de Jong  \n",
       "1298         Valencia       CF   45'+4            Header              NaN  \n",
       "1299  Real Valladolid       SS     65'  Left-footed shot            Pedri  \n",
       "\n",
       "[1300 rows x 10 columns]"
      ]
     },
     "execution_count": 22,
     "metadata": {},
     "output_type": "execute_result"
    }
   ],
   "source": [
    "new_df_G = new_df_G.replace('messi','Messi')\n",
    "new_df_G"
   ]
  },
  {
   "cell_type": "markdown",
   "id": "38c53b22",
   "metadata": {},
   "source": [
    "### Tratando o tipo da coluna Data"
   ]
  },
  {
   "cell_type": "code",
   "execution_count": 23,
   "id": "64e7840a",
   "metadata": {
    "scrolled": true
   },
   "outputs": [
    {
     "data": {
      "text/plain": [
       "0      2002-10-07\n",
       "1      2002-10-07\n",
       "2      2002-10-26\n",
       "3      2002-11-24\n",
       "4      2002-12-18\n",
       "          ...    \n",
       "1295          NaT\n",
       "1296   2020-11-29\n",
       "1297   2020-12-13\n",
       "1298   2020-12-19\n",
       "1299   2020-12-22\n",
       "Name: Data, Length: 1300, dtype: datetime64[ns]"
      ]
     },
     "execution_count": 23,
     "metadata": {},
     "output_type": "execute_result"
    }
   ],
   "source": [
    "# Alterando tipo \n",
    "new_df_G['Data'] = pd.to_datetime(new_df_G['Data'], format='%m/%d/%Y')\n",
    "new_df_G['Data']"
   ]
  },
  {
   "cell_type": "markdown",
   "id": "e0761d69",
   "metadata": {},
   "source": [
    "### Tratando as informações da coluna Minuto e seus outliers "
   ]
  },
  {
   "cell_type": "code",
   "execution_count": 24,
   "id": "415d5817",
   "metadata": {
    "scrolled": true
   },
   "outputs": [
    {
     "data": {
      "text/plain": [
       "<Axes: >"
      ]
     },
     "execution_count": 24,
     "metadata": {},
     "output_type": "execute_result"
    },
    {
     "data": {
      "image/png": "[encoded data removed]",
      "text/plain": [
       "<Figure size 640x480 with 1 Axes>"
      ]
     },
     "metadata": {},
     "output_type": "display_data"
    }
   ],
   "source": [
    "coluna = new_df_G['Minuto']\n",
    "\n",
    "new_df_G['Minuto'] = new_df_G['Minuto'].astype(str)\n",
    "new_df_G['Minuto'] = new_df_G['Minuto'].str.replace(\"'\", \"\")\n",
    "new_df_G['Minuto'] = new_df_G['Minuto'].apply(lambda x: eval(x))\n",
    "new_df_G['Minuto'] = pd.to_numeric(new_df_G['Minuto'])\n",
    "\n",
    "new_df_G.boxplot(column='Minuto')\n"
   ]
  },
  {
   "cell_type": "code",
   "execution_count": 29,
   "id": "4531f5fc",
   "metadata": {},
   "outputs": [
    {
     "data": {
      "text/html": [
       "<div>\n",
       "<style scoped>\n",
       "    .dataframe tbody tr th:only-of-type {\n",
       "        vertical-align: middle;\n",
       "    }\n",
       "\n",
       "    .dataframe tbody tr th {\n",
       "        vertical-align: top;\n",
       "    }\n",
       "\n",
       "    .dataframe thead th {\n",
       "        text-align: right;\n",
       "    }\n",
       "</style>\n",
       "<table border=\"1\" class=\"dataframe\">\n",
       "  <thead>\n",
       "    <tr style=\"text-align: right;\">\n",
       "      <th></th>\n",
       "      <th>Jogador</th>\n",
       "      <th>Campeonato</th>\n",
       "      <th>Rodada</th>\n",
       "      <th>Data</th>\n",
       "      <th>Mandante</th>\n",
       "      <th>Oponente</th>\n",
       "      <th>Posição</th>\n",
       "      <th>Minuto</th>\n",
       "      <th>Tipo</th>\n",
       "      <th>Assistido por</th>\n",
       "    </tr>\n",
       "  </thead>\n",
       "  <tbody>\n",
       "    <tr>\n",
       "      <th>0</th>\n",
       "      <td>Ronaldo</td>\n",
       "      <td>Liga NOS</td>\n",
       "      <td>6</td>\n",
       "      <td>2002-10-07</td>\n",
       "      <td>H</td>\n",
       "      <td>Moreirense</td>\n",
       "      <td>RW</td>\n",
       "      <td>34</td>\n",
       "      <td>NaN</td>\n",
       "      <td>NaN</td>\n",
       "    </tr>\n",
       "    <tr>\n",
       "      <th>1</th>\n",
       "      <td>Ronaldo</td>\n",
       "      <td>Liga NOS</td>\n",
       "      <td>6</td>\n",
       "      <td>2002-10-07</td>\n",
       "      <td>H</td>\n",
       "      <td>Moreirense</td>\n",
       "      <td>NaN</td>\n",
       "      <td>90</td>\n",
       "      <td>NaN</td>\n",
       "      <td>NaN</td>\n",
       "    </tr>\n",
       "    <tr>\n",
       "      <th>2</th>\n",
       "      <td>Ronaldo</td>\n",
       "      <td>Liga NOS</td>\n",
       "      <td>8</td>\n",
       "      <td>2002-10-26</td>\n",
       "      <td>A</td>\n",
       "      <td>Boavista</td>\n",
       "      <td>NaN</td>\n",
       "      <td>88</td>\n",
       "      <td>NaN</td>\n",
       "      <td>Carlos Martins</td>\n",
       "    </tr>\n",
       "    <tr>\n",
       "      <th>3</th>\n",
       "      <td>Ronaldo</td>\n",
       "      <td>Taça de Portugal Placard</td>\n",
       "      <td>Fourth Round</td>\n",
       "      <td>2002-11-24</td>\n",
       "      <td>H</td>\n",
       "      <td>Estarreja</td>\n",
       "      <td>NaN</td>\n",
       "      <td>67</td>\n",
       "      <td>Left-footed shot</td>\n",
       "      <td>César Prates</td>\n",
       "    </tr>\n",
       "    <tr>\n",
       "      <th>4</th>\n",
       "      <td>Ronaldo</td>\n",
       "      <td>Taça de Portugal Placard</td>\n",
       "      <td>Fifth Round</td>\n",
       "      <td>2002-12-18</td>\n",
       "      <td>H</td>\n",
       "      <td>Oliv. Hospital</td>\n",
       "      <td>NaN</td>\n",
       "      <td>13</td>\n",
       "      <td>NaN</td>\n",
       "      <td>NaN</td>\n",
       "    </tr>\n",
       "    <tr>\n",
       "      <th>...</th>\n",
       "      <td>...</td>\n",
       "      <td>...</td>\n",
       "      <td>...</td>\n",
       "      <td>...</td>\n",
       "      <td>...</td>\n",
       "      <td>...</td>\n",
       "      <td>...</td>\n",
       "      <td>...</td>\n",
       "      <td>...</td>\n",
       "      <td>...</td>\n",
       "    </tr>\n",
       "    <tr>\n",
       "      <th>1295</th>\n",
       "      <td>Messi</td>\n",
       "      <td>NaN</td>\n",
       "      <td>NaN</td>\n",
       "      <td>NaT</td>\n",
       "      <td>NaN</td>\n",
       "      <td>NaN</td>\n",
       "      <td>NaN</td>\n",
       "      <td>82</td>\n",
       "      <td>Left-footed shot</td>\n",
       "      <td>Sergi Roberto</td>\n",
       "    </tr>\n",
       "    <tr>\n",
       "      <th>1296</th>\n",
       "      <td>Messi</td>\n",
       "      <td>LaLiga</td>\n",
       "      <td>11</td>\n",
       "      <td>2020-11-29</td>\n",
       "      <td>H</td>\n",
       "      <td>CA Osasuna</td>\n",
       "      <td>RW</td>\n",
       "      <td>73</td>\n",
       "      <td>Left-footed shot</td>\n",
       "      <td>Trincão</td>\n",
       "    </tr>\n",
       "    <tr>\n",
       "      <th>1297</th>\n",
       "      <td>Messi</td>\n",
       "      <td>LaLiga</td>\n",
       "      <td>13</td>\n",
       "      <td>2020-12-13</td>\n",
       "      <td>H</td>\n",
       "      <td>Levante</td>\n",
       "      <td>CF</td>\n",
       "      <td>76</td>\n",
       "      <td>Left-footed shot</td>\n",
       "      <td>Frenkie de Jong</td>\n",
       "    </tr>\n",
       "    <tr>\n",
       "      <th>1298</th>\n",
       "      <td>Messi</td>\n",
       "      <td>LaLiga</td>\n",
       "      <td>14</td>\n",
       "      <td>2020-12-19</td>\n",
       "      <td>H</td>\n",
       "      <td>Valencia</td>\n",
       "      <td>CF</td>\n",
       "      <td>49</td>\n",
       "      <td>Header</td>\n",
       "      <td>NaN</td>\n",
       "    </tr>\n",
       "    <tr>\n",
       "      <th>1299</th>\n",
       "      <td>Messi</td>\n",
       "      <td>LaLiga</td>\n",
       "      <td>15</td>\n",
       "      <td>2020-12-22</td>\n",
       "      <td>A</td>\n",
       "      <td>Real Valladolid</td>\n",
       "      <td>SS</td>\n",
       "      <td>65</td>\n",
       "      <td>Left-footed shot</td>\n",
       "      <td>Pedri</td>\n",
       "    </tr>\n",
       "  </tbody>\n",
       "</table>\n",
       "<p>1300 rows × 10 columns</p>\n",
       "</div>"
      ],
      "text/plain": [
       "      Jogador                Campeonato        Rodada       Data Mandante  \\\n",
       "0     Ronaldo                  Liga NOS             6 2002-10-07        H   \n",
       "1     Ronaldo                  Liga NOS             6 2002-10-07        H   \n",
       "2     Ronaldo                  Liga NOS             8 2002-10-26        A   \n",
       "3     Ronaldo  Taça de Portugal Placard  Fourth Round 2002-11-24        H   \n",
       "4     Ronaldo  Taça de Portugal Placard   Fifth Round 2002-12-18        H   \n",
       "...       ...                       ...           ...        ...      ...   \n",
       "1295    Messi                       NaN           NaN        NaT      NaN   \n",
       "1296    Messi                    LaLiga            11 2020-11-29        H   \n",
       "1297    Messi                    LaLiga            13 2020-12-13        H   \n",
       "1298    Messi                    LaLiga            14 2020-12-19        H   \n",
       "1299    Messi                    LaLiga            15 2020-12-22        A   \n",
       "\n",
       "               Oponente Posição  Minuto              Tipo    Assistido por  \n",
       "0           Moreirense       RW      34               NaN              NaN  \n",
       "1           Moreirense      NaN      90               NaN              NaN  \n",
       "2              Boavista     NaN      88               NaN   Carlos Martins  \n",
       "3             Estarreja     NaN      67  Left-footed shot     César Prates  \n",
       "4        Oliv. Hospital     NaN      13               NaN              NaN  \n",
       "...                 ...     ...     ...               ...              ...  \n",
       "1295                NaN     NaN      82  Left-footed shot    Sergi Roberto  \n",
       "1296       CA Osasuna       RW       73  Left-footed shot          Trincão  \n",
       "1297          Levante       CF       76  Left-footed shot  Frenkie de Jong  \n",
       "1298         Valencia       CF       49            Header              NaN  \n",
       "1299  Real Valladolid       SS       65  Left-footed shot            Pedri  \n",
       "\n",
       "[1300 rows x 10 columns]"
      ]
     },
     "execution_count": 29,
     "metadata": {},
     "output_type": "execute_result"
    }
   ],
   "source": [
    "new_df_G"
   ]
  },
  {
   "cell_type": "markdown",
   "id": "cfd175d7",
   "metadata": {},
   "source": [
    "### Tratando as informações da coluna Campeonato\n",
    "Excluindo campeonatos em que apenas um dos jogadores participou."
   ]
  },
  {
   "cell_type": "code",
   "execution_count": 43,
   "id": "60531acd",
   "metadata": {
    "scrolled": true
   },
   "outputs": [
    {
     "data": {
      "text/plain": [
       "Campeonato      Jogador\n",
       "Club World Cup  Ronaldo      5\n",
       "                Messi        4\n",
       "Copa del Rey    Messi       37\n",
       "                Ronaldo     16\n",
       "LaLiga          Messi      285\n",
       "                Ronaldo    183\n",
       "Supercopa       Messi       10\n",
       "                Ronaldo      4\n",
       "UEFA Super Cup  Messi        2\n",
       "                Ronaldo      1\n",
       "dtype: int64"
      ]
     },
     "execution_count": 43,
     "metadata": {},
     "output_type": "execute_result"
    }
   ],
   "source": [
    "new_df_G = new_df_G.loc[new_df_G['Campeonato'].isin(['Club World Cup', 'Copa del Rey', 'LaLiga', 'Supercopa', 'UEFA Super Cup'])]\n",
    "new_df_G[['Jogador','Campeonato']].groupby('Campeonato').value_counts()"
   ]
  },
  {
   "cell_type": "markdown",
   "id": "0c83363c",
   "metadata": {},
   "source": [
    "### Tratando as informações da coluna Rodadas"
   ]
  },
  {
   "cell_type": "code",
   "execution_count": null,
   "id": "c79c37ff",
   "metadata": {},
   "outputs": [],
   "source": []
  },
  {
   "cell_type": "code",
   "execution_count": null,
   "id": "361abdb5",
   "metadata": {},
   "outputs": [],
   "source": [
    "new_df_G = new_df_G.replace('messi','Messi')"
   ]
  },
  {
   "cell_type": "code",
   "execution_count": null,
   "id": "9771a455",
   "metadata": {},
   "outputs": [],
   "source": []
  },
  {
   "cell_type": "code",
   "execution_count": null,
   "id": "ff0124aa",
   "metadata": {},
   "outputs": [],
   "source": []
  },
  {
   "cell_type": "code",
   "execution_count": null,
   "id": "211ff5fb",
   "metadata": {},
   "outputs": [],
   "source": []
  },
  {
   "cell_type": "code",
   "execution_count": null,
   "id": "71988caf",
   "metadata": {},
   "outputs": [],
   "source": []
  },
  {
   "cell_type": "code",
   "execution_count": null,
   "id": "6b64bc13",
   "metadata": {},
   "outputs": [],
   "source": []
  },
  {
   "cell_type": "code",
   "execution_count": null,
   "id": "6f000378",
   "metadata": {},
   "outputs": [],
   "source": []
  },
  {
   "cell_type": "code",
   "execution_count": null,
   "id": "e17cf191",
   "metadata": {},
   "outputs": [],
   "source": []
  },
  {
   "cell_type": "code",
   "execution_count": null,
   "id": "78bab51c",
   "metadata": {},
   "outputs": [],
   "source": [
    "# PREENCHER OS DADOS VAZIOS DA COLUNA ROUND\n",
    "\n",
    "#CONDIÇÕES: if liga == liga, date == date, opp == opp: puxar o round\n",
    "for linha in df_G:\n",
    "    if df_G['round'] == 'Null':\n",
    "        if df_G[]\n",
    "         "
   ]
  }
 ],
 "metadata": {
  "kernelspec": {
   "display_name": "Python 3 (ipykernel)",
   "language": "python",
   "name": "python3"
  },
  "language_info": {
   "codemirror_mode": {
    "name": "ipython",
    "version": 3
   },
   "file_extension": ".py",
   "mimetype": "text/x-python",
   "name": "python",
   "nbconvert_exporter": "python",
   "pygments_lexer": "ipython3",
   "version": "3.9.16"
  }
 },
 "nbformat": 4,
 "nbformat_minor": 5
}
