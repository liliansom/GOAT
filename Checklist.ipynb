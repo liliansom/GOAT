{
 "cells": [
  {
   "cell_type": "markdown",
   "id": "f260f921",
   "metadata": {},
   "source": [
    "## CheckList"
   ]
  },
  {
   "cell_type": "markdown",
   "id": "2841777b",
   "metadata": {},
   "source": [
    "### 1.Definição do Problema"
   ]
  },
  {
   "cell_type": "markdown",
   "id": "205597f9",
   "metadata": {},
   "source": [
    "[x] Storytelling\n",
    "[x] Definição do problema"
   ]
  },
  {
   "cell_type": "markdown",
   "id": "53309fe9",
   "metadata": {},
   "source": [
    "### 2. Obtenção dos Dados"
   ]
  },
  {
   "cell_type": "markdown",
   "id": "16ec0226",
   "metadata": {},
   "source": [
    "[x] Criação das Pastas dos arquivos\n",
    "\n",
    "[x] Download dos dados\n",
    "\n",
    "[x] Download de Imagens\n",
    "\n",
    "[x] Busca de dados para o storytelling \n",
    "\n",
    "[x] Importação do Dados"
   ]
  },
  {
   "cell_type": "markdown",
   "id": "ba2c92ae",
   "metadata": {},
   "source": [
    "### 3. Exploração dos Dados"
   ]
  },
  {
   "cell_type": "markdown",
   "id": "1cfe5f50",
   "metadata": {},
   "source": [
    "[x] Verificar como os dados estão apresentados no arquivo\n",
    "\n",
    "[x] Verificar quantidade de dados nulos\n",
    "\n",
    "[] Verificar quais dados estão com erros\n",
    "\n",
    "[] Verificar quais colunas serão utilizadas\n",
    "\n",
    "[] Compreender e qualificar esses dados\n",
    "\n",
    "[] Anotação das questões que surgem:\n",
    "\n",
    "        * Alterar o nome das colunas\n",
    "        * Separar os dados em dois arquivos\n",
    "        * Transformar coluna date em datas\n",
    "        * Coluna de Rodadas precisa ser reformatada, pois os dados estão escritos de maneira diferente\n",
    "            ex. \n",
    "            * Fourth round, 4th round\n",
    "            * last 16, Round of 16\n",
    "            * Sixth Round, 6th round \n",
    "            * Third Round,3rd round\n",
    "            * final, Final\n",
    "        [] Existem alguns campeonatos em que o Messi não participou...Utilizar apenas os dados em que os dois participaram.\n"
   ]
  },
  {
   "cell_type": "markdown",
   "id": "a2efdc39",
   "metadata": {},
   "source": [
    "### 4. Preparação dos Dados"
   ]
  },
  {
   "cell_type": "markdown",
   "id": "e7f8aa9f",
   "metadata": {},
   "source": [
    "[] Alterar o nome das colunas\n",
    "\n",
    "[] Tratar dados nulos\n",
    "\n",
    "[] Tratar dados com erros\n",
    "        \n",
    "        [] Coluna de Rodadas precisa ser reformatada, pois os dados estão escritos de maneira diferente\n",
    "            ex. \n",
    "            * Fourth round, 4th round\n",
    "            * last 16, Round of 16\n",
    "            * Sixth Round, 6th round \n",
    "            * Third Round,3rd round\n",
    "            * final, Final\n",
    "            \n",
    "[] Excluir colunas que não serão utilizadas\n",
    "        \n",
    "        Existem alguns campeonatos em que o Messi não participou...Utilizar apenas os dados em que os dois participaram.\n",
    "        \n",
    "[] Mesclar colunas, se necessário\n",
    "\n",
    "[] Transformar coluna date em datas\n",
    "\n",
    "[] Separar os dados em dois arquivos, por jogador"
   ]
  },
  {
   "cell_type": "markdown",
   "id": "90efdbad",
   "metadata": {},
   "source": [
    "### 5. Plotagem dos Gráficos"
   ]
  },
  {
   "cell_type": "markdown",
   "id": "6a4cd10d",
   "metadata": {},
   "source": [
    "[] Utilizar os dados para plotagem dos gráficos\n",
    "\n"
   ]
  },
  {
   "cell_type": "markdown",
   "id": "b46ea0d8",
   "metadata": {},
   "source": [
    "### 6. Revisão do Projeto"
   ]
  },
  {
   "cell_type": "markdown",
   "id": "dadbb709",
   "metadata": {},
   "source": [
    "[] Readme\n",
    "    [x] Criação\n",
    "    [] Atualização\n",
    "    [] Finalização\n",
    "\n",
    "[] Checklist\n",
    "    [x] Criação\n",
    "    [] Atualização\n",
    "    [] Finalização\n",
    "    \n",
    "[] Finalizar storytelling\n",
    "    [x] Criação\n",
    "    [] Atualização\n",
    "    [] Finalização\n",
    "    \n",
    "[] Revisão final do Projeto\n",
    "    [] Ortografia\n",
    "    [] Imagens\n",
    "    [] Links\n",
    "    [] Comentários\n",
    "    [] Organização do repositório\n",
    "    [] Divulgação\n",
    "        \n",
    "        [] Adequação para Google Colab\n",
    "        [] Criação do vídeo\n",
    "        [] Postagem Linkedin\n",
    "                [] Não esquecer de comentar sobre o desafio da comunidade 5 data glow up\n",
    "                [] Não esquecer de comentar sobre @Heitor Sasaki\n",
    "        [] Postagem Comunidade\n",
    "\n",
    "\n",
    "    "
   ]
  },
  {
   "cell_type": "markdown",
   "id": "d579808f",
   "metadata": {},
   "source": []
  },
  {
   "cell_type": "markdown",
   "id": "0b259087",
   "metadata": {},
   "source": []
  }
 ],
 "metadata": {
  "kernelspec": {
   "display_name": "Python 3 (ipykernel)",
   "language": "python",
   "name": "python3"
  },
  "language_info": {
   "codemirror_mode": {
    "name": "ipython",
    "version": 3
   },
   "file_extension": ".py",
   "mimetype": "text/x-python",
   "name": "python",
   "nbconvert_exporter": "python",
   "pygments_lexer": "ipython3",
   "version": "3.9.16"
  }
 },
 "nbformat": 4,
 "nbformat_minor": 5
}
