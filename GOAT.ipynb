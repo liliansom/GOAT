{
 "cells": [
  {
   "cell_type": "markdown",
   "id": "eb944217",
   "metadata": {},
   "source": [
    "## GOAT: Cristiano Ronaldo ou Messi?"
   ]
  },
  {
   "cell_type": "markdown",
   "id": "fc350149",
   "metadata": {},
   "source": [
    "As primeiras regras escritas do futebol surgiram em 1830 — The Football Rulles — e foram criadas pelo Colégio Harrow. Estabeleceram o número de 11 jogadores para cada equipe e os gols para onde a bola deveria ser conduzida. Como havia uma diversidade nas regras, que variavam para cada colégio, em 1848, houve uma reunião de diretores de várias escolas que estabeleceram um código comum para o futebol, o que ampliou a aceitação da atividade nos meios educacionais e nas classes mais altas.\n",
    "\n",
    "<img src='img\\BolaAntiga.png' width='30%'>\n",
    "<center> \"Bola de futebol da Copa de 1930\"</center>\n",
    "\n",
    "Veja mais sobre \"História do Futebol\" em: https://brasilescola.uol.com.br/educacao-fisica/historia-do-futebol.htm\n",
    "Ao longo das décadas, novas regras foram implementadas e muitas outras modificadas até o futebol chegar ao formato que é conhecido hoje. Entre as mudanças, muitas colaboram para que o jogo ficasse mais limpo e justo.\n",
    "\n",
    "Em 1904, dirigentes da Bélgica, Dinamarca, Espanha, França, Holanda, Suécia e Suíça reuniram-se em Paris, na França, para fundar a Fédération Internationale of Football Association (Federação Internacional das Associações de Futebol), a FIFA, órgão que comanda o futebol e é responsável por organizar competições de nível mundial. A entidade foi criada para suprir o desejo de um torneio de futebol entre os países.\n",
    "\n",
    "O futebol é um dos esportes mais populares em todo o mundo e há uma grande divisão entre os amantes deste esporte:\n"
   ]
  },
  {
   "cell_type": "markdown",
   "id": "d5d64164",
   "metadata": {},
   "source": [
    "<center><strong><h3>Quem é o GOAT: Cristiano Ronaldo ou Lionel Messi?</h3></strong></center>\n",
    "<img src='img\\CReMX.jpg' width='30%'>\n",
    "\n",
    "GOAT é um acrônimo para a expressão “maior de todos os tempos” (em inglês: Greatest Of All Time), sendo frequentemente usada no esporte para falar dos grandes de uma determinada modalidade.\n",
    "\n",
    "A palavra GOAT tem sido usada por décadas pela imprensa estadunidense para se referir a um atleta que marca uma determinada era em algum esporte. Foi utilizada para o boxeador Mohamed Ali, para o jogador de basquete Michael Jordan, para o golfista Tiger Woods e para o quarterback Tom Brady. No futebol, ela remonta a 2017, quando várias publicações em inglês foram usadas para descrever a temporada de Messi no Barcelona.\n",
    "\n",
    "Em relação aos jogadores Cristiano Ronaldo e o Lionel Messi. Quem são eles?\n",
    "\n",
    "O Cristiano Ronaldo nascido em Funchal - Portugal, no dia 5 de fevereiro de 1985, joga atualmente pelo Al-Nassr Football Club e é o jogador mais bem pago do mundo com salário especulado em torno de 200 milhões de euros por temporada. Além disso, o jogador atua também como capitão da Seleção Portuguesa. É o jogador com mais gols na história do futebol em jogos oficiais, sendo simultaneamente o jogador com mais gols na história a nível de seleções, bem como a nível de clubes.\n",
    "\n",
    "Já Lionel Messi nascido em Rosário - Argentina, no dia 24 de junho de 1987, joga atualmente pelo Paris Saint-Germain. Messi detém o recorde de mais gols pelo Campeonato Espanhol, mais gols marcados em uma única edição do Campeonato Espanhol e de uma liga europeia. O jogador também atua como capitão da seleção Argentina e, além de ganhar a Copa do Mundo FIFA de 2022 realizada no Qtar, foi considerado o Craque da Copa! \n",
    "Seus companheiros de equipe Martínez levou como melhor goleiro e Fernández foi escolhido o destaque jovem do torneio. \n",
    "<img src='img\\messi.png' width='30%'>\n",
    "\n",
    "\n",
    "Mas, afinal, quem é o melhor jogador? \n",
    "Vamos fazer uma comparação dos dados dos dois jogadores?\n",
    "Para isso, iremos realizar utilizar os dados do Kaggle que podem ser baixados em: https://www.kaggle.com/datasets/ahmedterry/cristiano-ronald-vs-lionel-messi-weekly-updated\n",
    "\n",
    "E, também, iremos seguir os passos do Checklist a seguir!"
   ]
  },
  {
   "cell_type": "markdown",
   "id": "851e57d9",
   "metadata": {},
   "source": [
    "## Checklist"
   ]
  },
  {
   "cell_type": "markdown",
   "id": "98a2338b",
   "metadata": {},
   "source": [
    "1. Definição do Problema\n",
    "2. Obtenção dos Dados    \n",
    "3. Exploração dos Dados\n",
    "4. Preparação dos Dados\n",
    "5. Análise Exploratório dos dados\n",
    "\n",
    "Para conferir o Checklist detalhado:\n",
    "<a class=\"nav-link\" href=\"https://github.com/liliansom/GOAT/Checklist.ipynb\" target=\"_blank\">Clique Aqui</a><br>\n"
   ]
  },
  {
   "cell_type": "code",
   "execution_count": null,
   "id": "cdb08146",
   "metadata": {},
   "outputs": [],
   "source": []
  }
 ],
 "metadata": {
  "kernelspec": {
   "display_name": "Python 3 (ipykernel)",
   "language": "python",
   "name": "python3"
  },
  "language_info": {
   "codemirror_mode": {
    "name": "ipython",
    "version": 3
   },
   "file_extension": ".py",
   "mimetype": "text/x-python",
   "name": "python",
   "nbconvert_exporter": "python",
   "pygments_lexer": "ipython3",
   "version": "3.9.16"
  }
 },
 "nbformat": 4,
 "nbformat_minor": 5
}
